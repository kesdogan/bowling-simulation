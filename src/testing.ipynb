{
 "cells": [
  {
   "cell_type": "code",
   "execution_count": 3,
   "metadata": {},
   "outputs": [],
   "source": [
    "import k3d \n",
    "import numpy as np \n",
    "import igl "
   ]
  },
  {
   "cell_type": "code",
   "execution_count": 2,
   "metadata": {},
   "outputs": [
    {
     "name": "stdout",
     "output_type": "stream",
     "text": [
      "/Users/timurkesdogan/Desktop/simulation/project/bowling-simulation/src\n"
     ]
    },
    {
     "data": {
      "text/plain": [
       "0"
      ]
     },
     "execution_count": 2,
     "metadata": {},
     "output_type": "execute_result"
    }
   ],
   "source": [
    "import os \n",
    "import sys\n",
    "os.system(\"pwd\")"
   ]
  },
  {
   "cell_type": "code",
   "execution_count": 3,
   "metadata": {},
   "outputs": [
    {
     "name": "stderr",
     "output_type": "stream",
     "text": [
      "Warning: readOBJ() ignored non-comment line 3:\n",
      "  o Cube\n"
     ]
    }
   ],
   "source": [
    "v, _, _, f, _, _ = igl.read_obj(\"../assets/simple_pin.obj\")"
   ]
  },
  {
   "cell_type": "code",
   "execution_count": 6,
   "metadata": {},
   "outputs": [
    {
     "data": {
      "text/plain": [
       "array([[ 0.411534, -1.      ,  0.626688],\n",
       "       [ 0.520772,  1.683213,  0.442368],\n",
       "       [ 0.417647, -1.      , -0.518943],\n",
       "       [ 0.576305,  1.677179, -0.280986],\n",
       "       [ 1.726965, -1.      ,  0.637821],\n",
       "       [ 1.23411 ,  1.660197,  0.267153],\n",
       "       [ 1.595002, -1.      , -0.504613],\n",
       "       [ 1.21051 ,  1.631795, -0.345299]])"
      ]
     },
     "execution_count": 6,
     "metadata": {},
     "output_type": "execute_result"
    }
   ],
   "source": [
    "v + np.array([1,0,0])"
   ]
  },
  {
   "cell_type": "code",
   "execution_count": 4,
   "metadata": {},
   "outputs": [
    {
     "name": "stderr",
     "output_type": "stream",
     "text": [
      "/Users/timurkesdogan/miniconda3/envs/foo/lib/python3.7/site-packages/traittypes/traittypes.py:101: UserWarning: Given trait value dtype \"float64\" does not match required type \"float32\". A coerced copy has been created.\n",
      "  np.dtype(self.dtype).name))\n",
      "/Users/timurkesdogan/miniconda3/envs/foo/lib/python3.7/site-packages/traittypes/traittypes.py:101: UserWarning: Given trait value dtype \"int64\" does not match required type \"uint32\". A coerced copy has been created.\n",
      "  np.dtype(self.dtype).name))\n"
     ]
    },
    {
     "data": {
      "application/vnd.jupyter.widget-view+json": {
       "model_id": "b9b02ede0c01492da45511f471ea241e",
       "version_major": 2,
       "version_minor": 0
      },
      "text/plain": [
       "Output()"
      ]
     },
     "metadata": {},
     "output_type": "display_data"
    }
   ],
   "source": [
    "plot = k3d.plot()\n",
    "plot += k3d.mesh(v, f)\n",
    "plot.display()"
   ]
  },
  {
   "cell_type": "code",
   "execution_count": 50,
   "metadata": {},
   "outputs": [
    {
     "data": {
      "text/plain": [
       "array([[-0.77345908,  0.54691816,  0.32037724],\n",
       "       [ 0.70710678, -0.70710678,  0.        ]])"
      ]
     },
     "execution_count": 50,
     "metadata": {},
     "output_type": "execute_result"
    }
   ],
   "source": [
    "v = np.array([[0,0,0], [1,0,0], [1,1,0], [0,0,1]], dtype = float)\n",
    "f = np.array([[0,1,2], [0,2,3], [0,3,1], [1,3,2]], dtype = int  )\n",
    "q = np.array([[5.0,0,0], [0.2,0.1,0.2]], dtype = float)\n",
    "P, I, C, N = igl.signed_distance(q, v, f, True)\n",
    "N"
   ]
  },
  {
   "cell_type": "code",
   "execution_count": 44,
   "metadata": {},
   "outputs": [
    {
     "ename": "ValueError",
     "evalue": "Cannot specify order when the array has no fields.",
     "output_type": "error",
     "traceback": [
      "\u001b[0;31m---------------------------------------------------------------------------\u001b[0m",
      "\u001b[0;31mValueError\u001b[0m                                Traceback (most recent call last)",
      "\u001b[1;32m/home/timur/Desktop/pbs/bowling-simulation/src/testing.ipynb Cell 7\u001b[0m line \u001b[0;36m3\n\u001b[1;32m      <a href='vscode-notebook-cell:/home/timur/Desktop/pbs/bowling-simulation/src/testing.ipynb#X22sZmlsZQ%3D%3D?line=0'>1</a>\u001b[0m j \u001b[39m=\u001b[39m np\u001b[39m.\u001b[39marray([\u001b[39m1\u001b[39m,\u001b[39m3\u001b[39m,\u001b[39m2\u001b[39m], dtype \u001b[39m=\u001b[39m \u001b[39mint\u001b[39m)\n\u001b[1;32m      <a href='vscode-notebook-cell:/home/timur/Desktop/pbs/bowling-simulation/src/testing.ipynb#X22sZmlsZQ%3D%3D?line=1'>2</a>\u001b[0m g \u001b[39m=\u001b[39m np\u001b[39m.\u001b[39marray([\u001b[39m0.5\u001b[39m,\u001b[39m2\u001b[39m,\u001b[39m1\u001b[39m])\n\u001b[0;32m----> <a href='vscode-notebook-cell:/home/timur/Desktop/pbs/bowling-simulation/src/testing.ipynb#X22sZmlsZQ%3D%3D?line=2'>3</a>\u001b[0m np\u001b[39m.\u001b[39;49msort(g, order\u001b[39m=\u001b[39;49mj)\n",
      "File \u001b[0;32m<__array_function__ internals>:180\u001b[0m, in \u001b[0;36msort\u001b[0;34m(*args, **kwargs)\u001b[0m\n",
      "File \u001b[0;32m~/miniconda3/envs/cloth/lib/python3.8/site-packages/numpy/core/fromnumeric.py:1004\u001b[0m, in \u001b[0;36msort\u001b[0;34m(a, axis, kind, order)\u001b[0m\n\u001b[1;32m   1002\u001b[0m \u001b[39melse\u001b[39;00m:\n\u001b[1;32m   1003\u001b[0m     a \u001b[39m=\u001b[39m asanyarray(a)\u001b[39m.\u001b[39mcopy(order\u001b[39m=\u001b[39m\u001b[39m\"\u001b[39m\u001b[39mK\u001b[39m\u001b[39m\"\u001b[39m)\n\u001b[0;32m-> 1004\u001b[0m a\u001b[39m.\u001b[39;49msort(axis\u001b[39m=\u001b[39;49maxis, kind\u001b[39m=\u001b[39;49mkind, order\u001b[39m=\u001b[39;49morder)\n\u001b[1;32m   1005\u001b[0m \u001b[39mreturn\u001b[39;00m a\n",
      "\u001b[0;31mValueError\u001b[0m: Cannot specify order when the array has no fields."
     ]
    }
   ],
   "source": [
    "j = np.array([1,3,2], dtype = int)\n",
    "g = np.array([0.5,2,1])\n",
    "np.sort(g, order=j)"
   ]
  },
  {
   "cell_type": "code",
   "execution_count": null,
   "metadata": {},
   "outputs": [],
   "source": [
    "# S #P list of smallest signed distances\n",
    "# I #P list of facet indices corresponding to smallest distances\n",
    "# C #P by 3 list of closest points"
   ]
  },
  {
   "cell_type": "code",
   "execution_count": 69,
   "metadata": {},
   "outputs": [
    {
     "name": "stderr",
     "output_type": "stream",
     "text": [
      "Warning: readOBJ() ignored non-comment line 3:\n",
      "  o Sphere\n"
     ]
    }
   ],
   "source": [
    "import igl\n",
    "import numpy as np\n",
    "import polyscope as ps\n",
    "import k3d\n",
    "import copy\n",
    "from utils import Triangle, Object, Collision\n",
    "\n",
    "\n",
    "\n",
    "object_list = []\n",
    "\n",
    "# load bowling ball from obj file place in field\n",
    "v, _, _, f, _, _ = igl.read_obj(\"../assets/simple_ball.obj\")\n",
    "v = v + np.array([-1, 0, 0])"
   ]
  },
  {
   "cell_type": "code",
   "execution_count": 70,
   "metadata": {},
   "outputs": [
    {
     "name": "stderr",
     "output_type": "stream",
     "text": [
      "Warning: readOBJ() ignored non-comment line 3:\n",
      "  o Cube\n"
     ]
    }
   ],
   "source": [
    "\n",
    "object_list.append(Object(v, f))\n",
    "indices_ball = len(v)\n",
    "\n",
    "\n",
    "# create global faces and vertices np.arrays\n",
    "vertices = np.array(v)\n",
    "faces = np.array(f)\n",
    "\n",
    "# add pins to the same mesh in this array\n",
    "v, _, _, f, _, _ = igl.read_obj(\"../assets/simple_pin.obj\")\n",
    "for i in range(2):\n",
    "    for j in range(-i, i + 1):\n",
    "        faces = np.concatenate((faces, f + len(vertices)), axis=0)\n",
    "        vertices = np.concatenate(\n",
    "            (vertices, (v + np.array([i * 1.5, 0, 0]) + np.array([0, 0, j * 1.5]))),\n",
    "            axis=0,\n",
    "        )\n",
    "        object_list.append(\n",
    "            Object(v + np.array([i * 1.5, 0, 0]) + np.array([0, 0, j * 1.5]), f)\n",
    "        )\n",
    "\n",
    "# register complete mesh w/ polyscope\n",
    "ps.init()\n",
    "mesh = ps.register_surface_mesh(\"everything\", vertices, faces)\n",
    "\n",
    "# intial all objects as static, except for ball, which is given initial velocity\n",
    "# slowly approaching pins\n",
    "initial_velocities = np.zeros(vertices.shape)\n",
    "initial_velocities[:indices_ball] = np.array([1, 0, 0])\n",
    "\n",
    "masses = np.ones(len(vertices))\n",
    "external_forces = np.zeros(vertices.shape)"
   ]
  },
  {
   "cell_type": "code",
   "execution_count": 71,
   "metadata": {},
   "outputs": [],
   "source": [
    "object_mask = []\n",
    "vertex_counter = face_counter = 0\n",
    "object_offsets = []\n",
    "\n",
    "for object in object_list:\n",
    "    vertex_mask = np.zeros(len(vertices), dtype=bool)\n",
    "    face_mask = np.zeros(len(faces), dtype=bool)\n",
    "\n",
    "    vertex_mask[vertex_counter : vertex_counter + len(object.v)] = True\n",
    "    face_mask[face_counter : face_counter + len(object.f)] = True\n",
    "    object_offsets.append((vertex_counter, face_counter))\n",
    "    vertex_counter += len(object.v)\n",
    "    face_counter += len(object.f)\n",
    "\n",
    "    object_mask.append((vertex_mask, face_mask))"
   ]
  },
  {
   "cell_type": "code",
   "execution_count": 72,
   "metadata": {},
   "outputs": [
    {
     "name": "stdout",
     "output_type": "stream",
     "text": [
      "(32, 3) vs  (82, 3)\n",
      "(48, 3)\n",
      "min:  0 vs  0\n",
      "max:  31 vs  81\n",
      "(50, 3)\n"
     ]
    }
   ],
   "source": [
    "i = 0; object = object_list[i]\n",
    "vertices_i = vertices[~object_mask[i][0]]\n",
    "faces_i = copy.deepcopy(faces)\n",
    "faces_i[object_offsets[i][1] :] = faces_i[object_offsets[i][1]:] - len(object.v)\n",
    "faces_i = faces_i[~object_mask[i][1]]\n",
    "\n",
    "print(vertices_i.shape, \"vs \", vertices.shape)\n",
    "print(faces_i.shape)\n",
    "\n",
    "print(\"min: \", faces_i.min(), \"vs \", faces.min())\n",
    "print(\"max: \", faces_i.max(), \"vs \", faces.max())\n",
    "print(object.v.shape)"
   ]
  },
  {
   "cell_type": "code",
   "execution_count": 73,
   "metadata": {},
   "outputs": [
    {
     "name": "stderr",
     "output_type": "stream",
     "text": [
      "/home/timur/miniconda3/envs/cloth/lib/python3.8/site-packages/traittypes/traittypes.py:97: UserWarning: Given trait value dtype \"float64\" does not match required type \"float32\". A coerced copy has been created.\n",
      "  warnings.warn(\n",
      "/home/timur/miniconda3/envs/cloth/lib/python3.8/site-packages/traittypes/traittypes.py:97: UserWarning: Given trait value dtype \"int64\" does not match required type \"uint32\". A coerced copy has been created.\n",
      "  warnings.warn(\n"
     ]
    },
    {
     "data": {
      "application/vnd.jupyter.widget-view+json": {
       "model_id": "0e395bb949f747e5aecd4b22a6296c51",
       "version_major": 2,
       "version_minor": 0
      },
      "text/plain": [
       "Output()"
      ]
     },
     "metadata": {},
     "output_type": "display_data"
    }
   ],
   "source": [
    "plot = k3d.plot()\n",
    "plot += k3d.mesh(object.v, object.f, color=0xff0000)\n",
    "plot += k3d.mesh(vertices_i, faces_i, color=0x00ff00)\n",
    "plot.display()"
   ]
  },
  {
   "cell_type": "code",
   "execution_count": 96,
   "metadata": {},
   "outputs": [],
   "source": [
    "S, I, C, N = igl.signed_distance(object.v, vertices_i, faces_i, True)\n",
    "collision_mask = S < 0"
   ]
  },
  {
   "cell_type": "code",
   "execution_count": 97,
   "metadata": {},
   "outputs": [],
   "source": [
    "collision_indices = np.arange(len(object.v))[collision_mask]\n",
    "C = C[collision_mask]\n",
    "N = N[collision_mask]\n",
    "S = S[collision_mask]\n",
    "I = I[collision_mask]\n",
    "\n",
    "order = np.argsort(S)\n",
    "\n",
    "collision_indices = collision_indices[order]\n",
    "C = C[order]\n",
    "N = N[order]\n",
    "I = I[order]\n",
    "\n",
    "I_mask = I >= object_offsets[i][1]\n",
    "I[I_mask] = I[I_mask] + object.f.shape[0]"
   ]
  },
  {
   "cell_type": "code",
   "execution_count": 98,
   "metadata": {},
   "outputs": [
    {
     "data": {
      "text/plain": [
       "array([ True,  True,  True,  True,  True,  True,  True])"
      ]
     },
     "execution_count": 98,
     "metadata": {},
     "output_type": "execute_result"
    }
   ],
   "source": [
    "# S #P list of smallest signed distances\n",
    "# I #P list of facet indices corresponding to smallest distances\n",
    "# C #P by 3 list of closest points\n",
    "object_offsets[i][1]\n",
    "I_mask"
   ]
  },
  {
   "cell_type": "code",
   "execution_count": 101,
   "metadata": {},
   "outputs": [
    {
     "data": {
      "text/plain": [
       "array([15, 11, 16, 14, 13, 10,  9])"
      ]
     },
     "execution_count": 101,
     "metadata": {},
     "output_type": "execute_result"
    }
   ],
   "source": [
    "collision_indices+ object_offsets[i][0]"
   ]
  },
  {
   "cell_type": "code",
   "execution_count": 1,
   "metadata": {},
   "outputs": [],
   "source": [
    "import torch"
   ]
  },
  {
   "cell_type": "code",
   "execution_count": 148,
   "metadata": {},
   "outputs": [
    {
     "data": {
      "text/plain": [
       "[tensor([[0., 1.],\n",
       "         [2., 3.]]),\n",
       " tensor([[4., 5.],\n",
       "         [6., 7.]]),\n",
       " tensor([[ 8.,  9.],\n",
       "         [10., 11.]]),\n",
       " tensor([[12., 13.],\n",
       "         [14., 15.]]),\n",
       " tensor([[16., 17.],\n",
       "         [18., 19.]]),\n",
       " tensor([[20., 21.],\n",
       "         [22., 23.]]),\n",
       " tensor([[24., 25.],\n",
       "         [26., 27.]]),\n",
       " tensor([[28., 29.],\n",
       "         [30., 31.]]),\n",
       " tensor([[32., 33.],\n",
       "         [34., 35.]]),\n",
       " tensor([[36., 37.],\n",
       "         [38., 39.]]),\n",
       " tensor([[40., 41.],\n",
       "         [42., 43.]]),\n",
       " tensor([[44., 45.],\n",
       "         [46., 47.]]),\n",
       " tensor([[48., 49.],\n",
       "         [50., 51.]]),\n",
       " tensor([[52., 53.],\n",
       "         [54., 55.]]),\n",
       " tensor([[56., 57.],\n",
       "         [58., 59.]]),\n",
       " tensor([[60., 61.],\n",
       "         [62., 63.]]),\n",
       " tensor([[64., 65.],\n",
       "         [66., 67.]]),\n",
       " tensor([[68., 69.],\n",
       "         [70., 71.]]),\n",
       " tensor([[72., 73.],\n",
       "         [74., 75.]]),\n",
       " tensor([[76., 77.],\n",
       "         [78., 79.]]),\n",
       " tensor([[80., 81.],\n",
       "         [82., 83.]]),\n",
       " tensor([[84., 85.],\n",
       "         [86., 87.]]),\n",
       " tensor([[88., 89.],\n",
       "         [90., 91.]]),\n",
       " tensor([[92., 93.],\n",
       "         [94., 95.]]),\n",
       " tensor([[96., 97.],\n",
       "         [98., 99.]]),\n",
       " tensor([[100., 101.],\n",
       "         [102., 103.]]),\n",
       " tensor([[104., 105.],\n",
       "         [106., 107.]]),\n",
       " tensor([[108., 109.],\n",
       "         [110., 111.]]),\n",
       " tensor([[112., 113.],\n",
       "         [114., 115.]]),\n",
       " tensor([[116., 117.],\n",
       "         [118., 119.]]),\n",
       " tensor([[120., 121.],\n",
       "         [122., 123.]]),\n",
       " tensor([[124., 125.],\n",
       "         [126., 127.]]),\n",
       " tensor([[128., 129.],\n",
       "         [130., 131.]]),\n",
       " tensor([[132., 133.],\n",
       "         [134., 135.]]),\n",
       " tensor([[136., 137.],\n",
       "         [138., 139.]]),\n",
       " tensor([[140., 141.],\n",
       "         [142., 143.]]),\n",
       " tensor([[144., 145.],\n",
       "         [146., 147.]]),\n",
       " tensor([[148., 149.],\n",
       "         [150., 151.]]),\n",
       " tensor([[152., 153.],\n",
       "         [154., 155.]]),\n",
       " tensor([[156., 157.],\n",
       "         [158., 159.]]),\n",
       " tensor([[160., 161.],\n",
       "         [162., 163.]]),\n",
       " tensor([[164., 165.],\n",
       "         [166., 167.]]),\n",
       " tensor([[168., 169.],\n",
       "         [170., 171.]]),\n",
       " tensor([[172., 173.],\n",
       "         [174., 175.]]),\n",
       " tensor([[176., 177.],\n",
       "         [178., 179.]]),\n",
       " tensor([[180., 181.],\n",
       "         [182., 183.]]),\n",
       " tensor([[184., 185.],\n",
       "         [186., 187.]]),\n",
       " tensor([[188., 189.],\n",
       "         [190., 191.]]),\n",
       " tensor([[192., 193.],\n",
       "         [194., 195.]]),\n",
       " tensor([[196., 197.],\n",
       "         [198., 199.]]),\n",
       " tensor([[200., 201.],\n",
       "         [202., 203.]]),\n",
       " tensor([[204., 205.],\n",
       "         [206., 207.]]),\n",
       " tensor([[208., 209.],\n",
       "         [210., 211.]]),\n",
       " tensor([[212., 213.],\n",
       "         [214., 215.]]),\n",
       " tensor([[216., 217.],\n",
       "         [218., 219.]]),\n",
       " tensor([[220., 221.],\n",
       "         [222., 223.]]),\n",
       " tensor([[224., 225.],\n",
       "         [226., 227.]]),\n",
       " tensor([[228., 229.],\n",
       "         [230., 231.]]),\n",
       " tensor([[232., 233.],\n",
       "         [234., 235.]]),\n",
       " tensor([[236., 237.],\n",
       "         [238., 239.]]),\n",
       " tensor([[240., 241.],\n",
       "         [242., 243.]]),\n",
       " tensor([[244., 245.],\n",
       "         [246., 247.]]),\n",
       " tensor([[248., 249.],\n",
       "         [250., 251.]]),\n",
       " tensor([[252., 253.],\n",
       "         [254., 255.]]),\n",
       " tensor([[256., 257.],\n",
       "         [258., 259.]]),\n",
       " tensor([[260., 261.],\n",
       "         [262., 263.]]),\n",
       " tensor([[264., 265.],\n",
       "         [266., 267.]]),\n",
       " tensor([[268., 269.],\n",
       "         [270., 271.]]),\n",
       " tensor([[272., 273.],\n",
       "         [274., 275.]]),\n",
       " tensor([[276., 277.],\n",
       "         [278., 279.]]),\n",
       " tensor([[280., 281.],\n",
       "         [282., 283.]]),\n",
       " tensor([[284., 285.],\n",
       "         [286., 287.]]),\n",
       " tensor([[288., 289.],\n",
       "         [290., 291.]]),\n",
       " tensor([[292., 293.],\n",
       "         [294., 295.]]),\n",
       " tensor([[296., 297.],\n",
       "         [298., 299.]]),\n",
       " tensor([[300., 301.],\n",
       "         [302., 303.]]),\n",
       " tensor([[304., 305.],\n",
       "         [306., 307.]]),\n",
       " tensor([[308., 309.],\n",
       "         [310., 311.]]),\n",
       " tensor([[312., 313.],\n",
       "         [314., 315.]]),\n",
       " tensor([[316., 317.],\n",
       "         [318., 319.]]),\n",
       " tensor([[320., 321.],\n",
       "         [322., 323.]]),\n",
       " tensor([[324., 325.],\n",
       "         [326., 327.]]),\n",
       " tensor([[328., 329.],\n",
       "         [330., 331.]]),\n",
       " tensor([[332., 333.],\n",
       "         [334., 335.]]),\n",
       " tensor([[336., 337.],\n",
       "         [338., 339.]]),\n",
       " tensor([[340., 341.],\n",
       "         [342., 343.]]),\n",
       " tensor([[344., 345.],\n",
       "         [346., 347.]]),\n",
       " tensor([[348., 349.],\n",
       "         [350., 351.]]),\n",
       " tensor([[352., 353.],\n",
       "         [354., 355.]]),\n",
       " tensor([[356., 357.],\n",
       "         [358., 359.]]),\n",
       " tensor([[360., 361.],\n",
       "         [362., 363.]]),\n",
       " tensor([[364., 365.],\n",
       "         [366., 367.]]),\n",
       " tensor([[368., 369.],\n",
       "         [370., 371.]]),\n",
       " tensor([[372., 373.],\n",
       "         [374., 375.]]),\n",
       " tensor([[376., 377.],\n",
       "         [378., 379.]]),\n",
       " tensor([[380., 381.],\n",
       "         [382., 383.]]),\n",
       " tensor([[384., 385.],\n",
       "         [386., 387.]]),\n",
       " tensor([[388., 389.],\n",
       "         [390., 391.]]),\n",
       " tensor([[392., 393.],\n",
       "         [394., 395.]]),\n",
       " tensor([[396., 397.],\n",
       "         [398., 399.]]),\n",
       " tensor([[400., 401.],\n",
       "         [402., 403.]]),\n",
       " tensor([[404., 405.],\n",
       "         [406., 407.]]),\n",
       " tensor([[408., 409.],\n",
       "         [410., 411.]]),\n",
       " tensor([[412., 413.],\n",
       "         [414., 415.]]),\n",
       " tensor([[416., 417.],\n",
       "         [418., 419.]]),\n",
       " tensor([[420., 421.],\n",
       "         [422., 423.]]),\n",
       " tensor([[424., 425.],\n",
       "         [426., 427.]]),\n",
       " tensor([[428., 429.],\n",
       "         [430., 431.]]),\n",
       " tensor([[432., 433.],\n",
       "         [434., 435.]]),\n",
       " tensor([[436., 437.],\n",
       "         [438., 439.]]),\n",
       " tensor([[440., 441.],\n",
       "         [442., 443.]]),\n",
       " tensor([[444., 445.],\n",
       "         [446., 447.]]),\n",
       " tensor([[448., 449.],\n",
       "         [450., 451.]]),\n",
       " tensor([[452., 453.],\n",
       "         [454., 455.]]),\n",
       " tensor([[456., 457.],\n",
       "         [458., 459.]]),\n",
       " tensor([[460., 461.],\n",
       "         [462., 463.]]),\n",
       " tensor([[464., 465.],\n",
       "         [466., 467.]]),\n",
       " tensor([[468., 469.],\n",
       "         [470., 471.]]),\n",
       " tensor([[472., 473.],\n",
       "         [474., 475.]]),\n",
       " tensor([[476., 477.],\n",
       "         [478., 479.]]),\n",
       " tensor([[480., 481.],\n",
       "         [482., 483.]]),\n",
       " tensor([[484., 485.],\n",
       "         [486., 487.]]),\n",
       " tensor([[488., 489.],\n",
       "         [490., 491.]]),\n",
       " tensor([[492., 493.],\n",
       "         [494., 495.]]),\n",
       " tensor([[496., 497.],\n",
       "         [498., 499.]]),\n",
       " tensor([[500., 501.],\n",
       "         [502., 503.]]),\n",
       " tensor([[504., 505.],\n",
       "         [506., 507.]]),\n",
       " tensor([[508., 509.],\n",
       "         [510., 511.]]),\n",
       " tensor([[512., 513.],\n",
       "         [514., 515.]]),\n",
       " tensor([[516., 517.],\n",
       "         [518., 519.]]),\n",
       " tensor([[520., 521.],\n",
       "         [522., 523.]]),\n",
       " tensor([[524., 525.],\n",
       "         [526., 527.]]),\n",
       " tensor([[528., 529.],\n",
       "         [530., 531.]]),\n",
       " tensor([[532., 533.],\n",
       "         [534., 535.]]),\n",
       " tensor([[536., 537.],\n",
       "         [538., 539.]]),\n",
       " tensor([[540., 541.],\n",
       "         [542., 543.]]),\n",
       " tensor([[544., 545.],\n",
       "         [546., 547.]]),\n",
       " tensor([[548., 549.],\n",
       "         [550., 551.]]),\n",
       " tensor([[552., 553.],\n",
       "         [554., 555.]]),\n",
       " tensor([[556., 557.],\n",
       "         [558., 559.]]),\n",
       " tensor([[560., 561.],\n",
       "         [562., 563.]]),\n",
       " tensor([[564., 565.],\n",
       "         [566., 567.]]),\n",
       " tensor([[568., 569.],\n",
       "         [570., 571.]]),\n",
       " tensor([[572., 573.],\n",
       "         [574., 575.]]),\n",
       " tensor([[576., 577.],\n",
       "         [578., 579.]]),\n",
       " tensor([[580., 581.],\n",
       "         [582., 583.]]),\n",
       " tensor([[584., 585.],\n",
       "         [586., 587.]]),\n",
       " tensor([[588., 589.],\n",
       "         [590., 591.]]),\n",
       " tensor([[592., 593.],\n",
       "         [594., 595.]]),\n",
       " tensor([[596., 597.],\n",
       "         [598., 599.]]),\n",
       " tensor([[600., 601.],\n",
       "         [602., 603.]]),\n",
       " tensor([[604., 605.],\n",
       "         [606., 607.]]),\n",
       " tensor([[608., 609.],\n",
       "         [610., 611.]]),\n",
       " tensor([[612., 613.],\n",
       "         [614., 615.]]),\n",
       " tensor([[616., 617.],\n",
       "         [618., 619.]]),\n",
       " tensor([[620., 621.],\n",
       "         [622., 623.]]),\n",
       " tensor([[624., 625.],\n",
       "         [626., 627.]]),\n",
       " tensor([[628., 629.],\n",
       "         [630., 631.]]),\n",
       " tensor([[632., 633.],\n",
       "         [634., 635.]]),\n",
       " tensor([[636., 637.],\n",
       "         [638., 639.]]),\n",
       " tensor([[640., 641.],\n",
       "         [642., 643.]]),\n",
       " tensor([[644., 645.],\n",
       "         [646., 647.]]),\n",
       " tensor([[648., 649.],\n",
       "         [650., 651.]]),\n",
       " tensor([[652., 653.],\n",
       "         [654., 655.]]),\n",
       " tensor([[656., 657.],\n",
       "         [658., 659.]]),\n",
       " tensor([[660., 661.],\n",
       "         [662., 663.]]),\n",
       " tensor([[664., 665.],\n",
       "         [666., 667.]]),\n",
       " tensor([[668., 669.],\n",
       "         [670., 671.]]),\n",
       " tensor([[672., 673.],\n",
       "         [674., 675.]]),\n",
       " tensor([[676., 677.],\n",
       "         [678., 679.]]),\n",
       " tensor([[680., 681.],\n",
       "         [682., 683.]]),\n",
       " tensor([[684., 685.],\n",
       "         [686., 687.]]),\n",
       " tensor([[688., 689.],\n",
       "         [690., 691.]]),\n",
       " tensor([[692., 693.],\n",
       "         [694., 695.]]),\n",
       " tensor([[696., 697.],\n",
       "         [698., 699.]]),\n",
       " tensor([[700., 701.],\n",
       "         [702., 703.]]),\n",
       " tensor([[704., 705.],\n",
       "         [706., 707.]]),\n",
       " tensor([[708., 709.],\n",
       "         [710., 711.]]),\n",
       " tensor([[712., 713.],\n",
       "         [714., 715.]]),\n",
       " tensor([[716., 717.],\n",
       "         [718., 719.]]),\n",
       " tensor([[720., 721.],\n",
       "         [722., 723.]]),\n",
       " tensor([[724., 725.],\n",
       "         [726., 727.]]),\n",
       " tensor([[728., 729.],\n",
       "         [730., 731.]]),\n",
       " tensor([[732., 733.],\n",
       "         [734., 735.]]),\n",
       " tensor([[736., 737.],\n",
       "         [738., 739.]]),\n",
       " tensor([[740., 741.],\n",
       "         [742., 743.]]),\n",
       " tensor([[744., 745.],\n",
       "         [746., 747.]]),\n",
       " tensor([[748., 749.],\n",
       "         [750., 751.]]),\n",
       " tensor([[752., 753.],\n",
       "         [754., 755.]]),\n",
       " tensor([[756., 757.],\n",
       "         [758., 759.]]),\n",
       " tensor([[760., 761.],\n",
       "         [762., 763.]]),\n",
       " tensor([[764., 765.],\n",
       "         [766., 767.]]),\n",
       " tensor([[768., 769.],\n",
       "         [770., 771.]]),\n",
       " tensor([[772., 773.],\n",
       "         [774., 775.]]),\n",
       " tensor([[776., 777.],\n",
       "         [778., 779.]]),\n",
       " tensor([[780., 781.],\n",
       "         [782., 783.]]),\n",
       " tensor([[784., 785.],\n",
       "         [786., 787.]]),\n",
       " tensor([[788., 789.],\n",
       "         [790., 791.]]),\n",
       " tensor([[792., 793.],\n",
       "         [794., 795.]]),\n",
       " tensor([[796., 797.],\n",
       "         [798., 799.]]),\n",
       " tensor([[800., 801.],\n",
       "         [802., 803.]]),\n",
       " tensor([[804., 805.],\n",
       "         [806., 807.]]),\n",
       " tensor([[808., 809.],\n",
       "         [810., 811.]]),\n",
       " tensor([[812., 813.],\n",
       "         [814., 815.]]),\n",
       " tensor([[816., 817.],\n",
       "         [818., 819.]]),\n",
       " tensor([[820., 821.],\n",
       "         [822., 823.]]),\n",
       " tensor([[824., 825.],\n",
       "         [826., 827.]]),\n",
       " tensor([[828., 829.],\n",
       "         [830., 831.]]),\n",
       " tensor([[832., 833.],\n",
       "         [834., 835.]]),\n",
       " tensor([[836., 837.],\n",
       "         [838., 839.]]),\n",
       " tensor([[840., 841.],\n",
       "         [842., 843.]]),\n",
       " tensor([[844., 845.],\n",
       "         [846., 847.]]),\n",
       " tensor([[848., 849.],\n",
       "         [850., 851.]]),\n",
       " tensor([[852., 853.],\n",
       "         [854., 855.]]),\n",
       " tensor([[856., 857.],\n",
       "         [858., 859.]]),\n",
       " tensor([[860., 861.],\n",
       "         [862., 863.]]),\n",
       " tensor([[864., 865.],\n",
       "         [866., 867.]]),\n",
       " tensor([[868., 869.],\n",
       "         [870., 871.]]),\n",
       " tensor([[872., 873.],\n",
       "         [874., 875.]]),\n",
       " tensor([[876., 877.],\n",
       "         [878., 879.]]),\n",
       " tensor([[880., 881.],\n",
       "         [882., 883.]]),\n",
       " tensor([[884., 885.],\n",
       "         [886., 887.]]),\n",
       " tensor([[888., 889.],\n",
       "         [890., 891.]]),\n",
       " tensor([[892., 893.],\n",
       "         [894., 895.]]),\n",
       " tensor([[896., 897.],\n",
       "         [898., 899.]]),\n",
       " tensor([[900., 901.],\n",
       "         [902., 903.]]),\n",
       " tensor([[904., 905.],\n",
       "         [906., 907.]]),\n",
       " tensor([[908., 909.],\n",
       "         [910., 911.]]),\n",
       " tensor([[912., 913.],\n",
       "         [914., 915.]]),\n",
       " tensor([[916., 917.],\n",
       "         [918., 919.]]),\n",
       " tensor([[920., 921.],\n",
       "         [922., 923.]]),\n",
       " tensor([[924., 925.],\n",
       "         [926., 927.]]),\n",
       " tensor([[928., 929.],\n",
       "         [930., 931.]]),\n",
       " tensor([[932., 933.],\n",
       "         [934., 935.]]),\n",
       " tensor([[936., 937.],\n",
       "         [938., 939.]]),\n",
       " tensor([[940., 941.],\n",
       "         [942., 943.]]),\n",
       " tensor([[944., 945.],\n",
       "         [946., 947.]]),\n",
       " tensor([[948., 949.],\n",
       "         [950., 951.]]),\n",
       " tensor([[952., 953.],\n",
       "         [954., 955.]]),\n",
       " tensor([[956., 957.],\n",
       "         [958., 959.]]),\n",
       " tensor([[960., 961.],\n",
       "         [962., 963.]]),\n",
       " tensor([[964., 965.],\n",
       "         [966., 967.]]),\n",
       " tensor([[968., 969.],\n",
       "         [970., 971.]]),\n",
       " tensor([[972., 973.],\n",
       "         [974., 975.]]),\n",
       " tensor([[976., 977.],\n",
       "         [978., 979.]]),\n",
       " tensor([[980., 981.],\n",
       "         [982., 983.]]),\n",
       " tensor([[984., 985.],\n",
       "         [986., 987.]]),\n",
       " tensor([[988., 989.],\n",
       "         [990., 991.]]),\n",
       " tensor([[992., 993.],\n",
       "         [994., 995.]]),\n",
       " tensor([[996., 997.],\n",
       "         [998., 999.]])]"
      ]
     },
     "execution_count": 148,
     "metadata": {},
     "output_type": "execute_result"
    }
   ],
   "source": [
    "list_2 = [torch.tensor([[i, i+1], [i+2, i+3]]).float().to(\"cpu\") for i in range(0,1000,4)]\n",
    "list_2"
   ]
  },
  {
   "cell_type": "code",
   "execution_count": 149,
   "metadata": {},
   "outputs": [
    {
     "data": {
      "text/plain": [
       "torch.return_types.svd(\n",
       "U=tensor([[[-0.4046, -0.9145],\n",
       "         [-0.9145,  0.4046]],\n",
       "\n",
       "        [[-0.5921, -0.8059],\n",
       "         [-0.8059,  0.5921]],\n",
       "\n",
       "        [[-0.6370, -0.7708],\n",
       "         [-0.7708,  0.6370]],\n",
       "\n",
       "        [[-0.6568, -0.7540],\n",
       "         [-0.7540,  0.6568]],\n",
       "\n",
       "        [[-0.6679, -0.7442],\n",
       "         [-0.7442,  0.6679]]]),\n",
       "S=tensor([[ 5.4650,  0.3660],\n",
       "        [13.1900,  0.1516],\n",
       "        [21.1185,  0.0947],\n",
       "        [29.0860,  0.0688],\n",
       "        [37.0675,  0.0540]]),\n",
       "V=tensor([[[-0.5760,  0.8174],\n",
       "         [-0.8174, -0.5760]],\n",
       "\n",
       "        [[-0.6521,  0.7581],\n",
       "         [-0.7581, -0.6521]],\n",
       "\n",
       "        [[-0.6730,  0.7397],\n",
       "         [-0.7397, -0.6730]],\n",
       "\n",
       "        [[-0.6824,  0.7309],\n",
       "         [-0.7309, -0.6824]],\n",
       "\n",
       "        [[-0.6878,  0.7259],\n",
       "         [-0.7259, -0.6878]]]))"
      ]
     },
     "execution_count": 149,
     "metadata": {},
     "output_type": "execute_result"
    }
   ],
   "source": [
    "torch.svd(torch.stack([a,b,c,d,e], dim=0))"
   ]
  },
  {
   "cell_type": "code",
   "execution_count": 150,
   "metadata": {},
   "outputs": [
    {
     "data": {
      "text/plain": [
       "tensor([13.1900,  0.1516])"
      ]
     },
     "execution_count": 150,
     "metadata": {},
     "output_type": "execute_result"
    }
   ],
   "source": [
    "u, s, v = torch.svd(b)\n",
    "s"
   ]
  },
  {
   "cell_type": "code",
   "execution_count": 151,
   "metadata": {},
   "outputs": [],
   "source": [
    "bb = torch.block_diag(c, b, a, d, e)"
   ]
  },
  {
   "cell_type": "code",
   "execution_count": 152,
   "metadata": {},
   "outputs": [
    {
     "data": {
      "text/plain": [
       "tensor([37.0675, 29.0860, 21.1185, 13.1900,  5.4650,  0.3660,  0.1516,  0.0947,\n",
       "         0.0688,  0.0540])"
      ]
     },
     "execution_count": 152,
     "metadata": {},
     "output_type": "execute_result"
    }
   ],
   "source": [
    "u, s, v = torch.svd(bb) \n",
    "s"
   ]
  },
  {
   "cell_type": "code",
   "execution_count": 153,
   "metadata": {},
   "outputs": [],
   "source": [
    "import time"
   ]
  },
  {
   "cell_type": "code",
   "execution_count": 156,
   "metadata": {},
   "outputs": [
    {
     "name": "stdout",
     "output_type": "stream",
     "text": [
      "0.22643542289733887\n",
      "1.5483312606811523\n"
     ]
    }
   ],
   "source": [
    "t = time.time()\n",
    "yy = torch.stack(list_2, dim=0)\n",
    "for _ in range(1000): \n",
    "    u, s, v = torch.svd(yy)\n",
    "print(time.time() - t)\n",
    "\n",
    "t = time.time()\n",
    "for _ in range(1000): \n",
    "    for i in list_2:\n",
    "        u, s, v = torch.svd(i)\n",
    "print(time.time() - t)"
   ]
  },
  {
   "cell_type": "code",
   "execution_count": 159,
   "metadata": {},
   "outputs": [
    {
     "data": {
      "text/plain": [
       "(array([[[-0.21483724,  0.88723069,  0.40824829],\n",
       "         [-0.52058739,  0.24964395, -0.81649658],\n",
       "         [-0.82633754, -0.38794278,  0.40824829]],\n",
       " \n",
       "        [[-0.21483724,  0.88723069,  0.40824829],\n",
       "         [-0.52058739,  0.24964395, -0.81649658],\n",
       "         [-0.82633754, -0.38794278,  0.40824829]]]),\n",
       " array([[1.68481034e+01, 1.06836951e+00, 4.41842475e-16],\n",
       "        [1.68481034e+01, 1.06836951e+00, 4.41842475e-16]]),\n",
       " array([[[-0.47967118, -0.57236779, -0.66506441],\n",
       "         [-0.77669099, -0.07568647,  0.62531805],\n",
       "         [-0.40824829,  0.81649658, -0.40824829]],\n",
       " \n",
       "        [[-0.47967118, -0.57236779, -0.66506441],\n",
       "         [-0.77669099, -0.07568647,  0.62531805],\n",
       "         [-0.40824829,  0.81649658, -0.40824829]]]))"
      ]
     },
     "execution_count": 159,
     "metadata": {},
     "output_type": "execute_result"
    }
   ],
   "source": [
    "import numpy as np\n",
    "a = np.array([[1,2,3], [4,5,6], [7,8,9]])\n",
    "b = np.array([[1,2,3], [4,5,6], [7,8,9]])\n",
    "\n",
    "np.linalg.svd(np.stack((a, b), axis=0))"
   ]
  }
 ],
 "metadata": {
  "kernelspec": {
   "display_name": "foo",
   "language": "python",
   "name": "python3"
  },
  "language_info": {
   "codemirror_mode": {
    "name": "ipython",
    "version": 3
   },
   "file_extension": ".py",
   "mimetype": "text/x-python",
   "name": "python",
   "nbconvert_exporter": "python",
   "pygments_lexer": "ipython3",
   "version": "3.8.13"
  }
 },
 "nbformat": 4,
 "nbformat_minor": 2
}
