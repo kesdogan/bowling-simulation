{
 "cells": [
  {
   "cell_type": "code",
   "execution_count": 3,
   "metadata": {},
   "outputs": [],
   "source": [
    "import k3d \n",
    "import numpy as np \n",
    "import igl "
   ]
  },
  {
   "cell_type": "code",
   "execution_count": 2,
   "metadata": {},
   "outputs": [
    {
     "name": "stdout",
     "output_type": "stream",
     "text": [
      "/Users/timurkesdogan/Desktop/simulation/project/bowling-simulation/src\n"
     ]
    },
    {
     "data": {
      "text/plain": [
       "0"
      ]
     },
     "execution_count": 2,
     "metadata": {},
     "output_type": "execute_result"
    }
   ],
   "source": [
    "import os \n",
    "import sys\n",
    "os.system(\"pwd\")"
   ]
  },
  {
   "cell_type": "code",
   "execution_count": 3,
   "metadata": {},
   "outputs": [
    {
     "name": "stderr",
     "output_type": "stream",
     "text": [
      "Warning: readOBJ() ignored non-comment line 3:\n",
      "  o Cube\n"
     ]
    }
   ],
   "source": [
    "v, _, _, f, _, _ = igl.read_obj(\"../assets/simple_pin.obj\")"
   ]
  },
  {
   "cell_type": "code",
   "execution_count": 6,
   "metadata": {},
   "outputs": [
    {
     "data": {
      "text/plain": [
       "array([[ 0.411534, -1.      ,  0.626688],\n",
       "       [ 0.520772,  1.683213,  0.442368],\n",
       "       [ 0.417647, -1.      , -0.518943],\n",
       "       [ 0.576305,  1.677179, -0.280986],\n",
       "       [ 1.726965, -1.      ,  0.637821],\n",
       "       [ 1.23411 ,  1.660197,  0.267153],\n",
       "       [ 1.595002, -1.      , -0.504613],\n",
       "       [ 1.21051 ,  1.631795, -0.345299]])"
      ]
     },
     "execution_count": 6,
     "metadata": {},
     "output_type": "execute_result"
    }
   ],
   "source": [
    "v + np.array([1,0,0])"
   ]
  },
  {
   "cell_type": "code",
   "execution_count": 4,
   "metadata": {},
   "outputs": [
    {
     "name": "stderr",
     "output_type": "stream",
     "text": [
      "/Users/timurkesdogan/miniconda3/envs/foo/lib/python3.7/site-packages/traittypes/traittypes.py:101: UserWarning: Given trait value dtype \"float64\" does not match required type \"float32\". A coerced copy has been created.\n",
      "  np.dtype(self.dtype).name))\n",
      "/Users/timurkesdogan/miniconda3/envs/foo/lib/python3.7/site-packages/traittypes/traittypes.py:101: UserWarning: Given trait value dtype \"int64\" does not match required type \"uint32\". A coerced copy has been created.\n",
      "  np.dtype(self.dtype).name))\n"
     ]
    },
    {
     "data": {
      "application/vnd.jupyter.widget-view+json": {
       "model_id": "b9b02ede0c01492da45511f471ea241e",
       "version_major": 2,
       "version_minor": 0
      },
      "text/plain": [
       "Output()"
      ]
     },
     "metadata": {},
     "output_type": "display_data"
    }
   ],
   "source": [
    "plot = k3d.plot()\n",
    "plot += k3d.mesh(v, f)\n",
    "plot.display()"
   ]
  },
  {
   "cell_type": "code",
   "execution_count": 50,
   "metadata": {},
   "outputs": [
    {
     "data": {
      "text/plain": [
       "array([[-0.77345908,  0.54691816,  0.32037724],\n",
       "       [ 0.70710678, -0.70710678,  0.        ]])"
      ]
     },
     "execution_count": 50,
     "metadata": {},
     "output_type": "execute_result"
    }
   ],
   "source": [
    "v = np.array([[0,0,0], [1,0,0], [1,1,0], [0,0,1]], dtype = float)\n",
    "f = np.array([[0,1,2], [0,2,3], [0,3,1], [1,3,2]], dtype = int  )\n",
    "q = np.array([[5.0,0,0], [0.2,0.1,0.2]], dtype = float)\n",
    "P, I, C, N = igl.signed_distance(q, v, f, True)\n",
    "N"
   ]
  },
  {
   "cell_type": "code",
   "execution_count": 44,
   "metadata": {},
   "outputs": [
    {
     "ename": "ValueError",
     "evalue": "Cannot specify order when the array has no fields.",
     "output_type": "error",
     "traceback": [
      "\u001b[0;31m---------------------------------------------------------------------------\u001b[0m",
      "\u001b[0;31mValueError\u001b[0m                                Traceback (most recent call last)",
      "\u001b[1;32m/home/timur/Desktop/pbs/bowling-simulation/src/testing.ipynb Cell 7\u001b[0m line \u001b[0;36m3\n\u001b[1;32m      <a href='vscode-notebook-cell:/home/timur/Desktop/pbs/bowling-simulation/src/testing.ipynb#X22sZmlsZQ%3D%3D?line=0'>1</a>\u001b[0m j \u001b[39m=\u001b[39m np\u001b[39m.\u001b[39marray([\u001b[39m1\u001b[39m,\u001b[39m3\u001b[39m,\u001b[39m2\u001b[39m], dtype \u001b[39m=\u001b[39m \u001b[39mint\u001b[39m)\n\u001b[1;32m      <a href='vscode-notebook-cell:/home/timur/Desktop/pbs/bowling-simulation/src/testing.ipynb#X22sZmlsZQ%3D%3D?line=1'>2</a>\u001b[0m g \u001b[39m=\u001b[39m np\u001b[39m.\u001b[39marray([\u001b[39m0.5\u001b[39m,\u001b[39m2\u001b[39m,\u001b[39m1\u001b[39m])\n\u001b[0;32m----> <a href='vscode-notebook-cell:/home/timur/Desktop/pbs/bowling-simulation/src/testing.ipynb#X22sZmlsZQ%3D%3D?line=2'>3</a>\u001b[0m np\u001b[39m.\u001b[39;49msort(g, order\u001b[39m=\u001b[39;49mj)\n",
      "File \u001b[0;32m<__array_function__ internals>:180\u001b[0m, in \u001b[0;36msort\u001b[0;34m(*args, **kwargs)\u001b[0m\n",
      "File \u001b[0;32m~/miniconda3/envs/cloth/lib/python3.8/site-packages/numpy/core/fromnumeric.py:1004\u001b[0m, in \u001b[0;36msort\u001b[0;34m(a, axis, kind, order)\u001b[0m\n\u001b[1;32m   1002\u001b[0m \u001b[39melse\u001b[39;00m:\n\u001b[1;32m   1003\u001b[0m     a \u001b[39m=\u001b[39m asanyarray(a)\u001b[39m.\u001b[39mcopy(order\u001b[39m=\u001b[39m\u001b[39m\"\u001b[39m\u001b[39mK\u001b[39m\u001b[39m\"\u001b[39m)\n\u001b[0;32m-> 1004\u001b[0m a\u001b[39m.\u001b[39;49msort(axis\u001b[39m=\u001b[39;49maxis, kind\u001b[39m=\u001b[39;49mkind, order\u001b[39m=\u001b[39;49morder)\n\u001b[1;32m   1005\u001b[0m \u001b[39mreturn\u001b[39;00m a\n",
      "\u001b[0;31mValueError\u001b[0m: Cannot specify order when the array has no fields."
     ]
    }
   ],
   "source": [
    "j = np.array([1,3,2], dtype = int)\n",
    "g = np.array([0.5,2,1])\n",
    "np.sort(g, order=j)"
   ]
  },
  {
   "cell_type": "code",
   "execution_count": null,
   "metadata": {},
   "outputs": [],
   "source": [
    "# S #P list of smallest signed distances\n",
    "# I #P list of facet indices corresponding to smallest distances\n",
    "# C #P by 3 list of closest points"
   ]
  },
  {
   "cell_type": "code",
   "execution_count": 69,
   "metadata": {},
   "outputs": [
    {
     "name": "stderr",
     "output_type": "stream",
     "text": [
      "Warning: readOBJ() ignored non-comment line 3:\n",
      "  o Sphere\n"
     ]
    }
   ],
   "source": [
    "import igl\n",
    "import numpy as np\n",
    "import polyscope as ps\n",
    "import k3d\n",
    "import copy\n",
    "from utils import Triangle, Object, Collision\n",
    "\n",
    "\n",
    "\n",
    "object_list = []\n",
    "\n",
    "# load bowling ball from obj file place in field\n",
    "v, _, _, f, _, _ = igl.read_obj(\"../assets/simple_ball.obj\")\n",
    "v = v + np.array([-1, 0, 0])"
   ]
  },
  {
   "cell_type": "code",
   "execution_count": 70,
   "metadata": {},
   "outputs": [
    {
     "name": "stderr",
     "output_type": "stream",
     "text": [
      "Warning: readOBJ() ignored non-comment line 3:\n",
      "  o Cube\n"
     ]
    }
   ],
   "source": [
    "\n",
    "object_list.append(Object(v, f))\n",
    "indices_ball = len(v)\n",
    "\n",
    "\n",
    "# create global faces and vertices np.arrays\n",
    "vertices = np.array(v)\n",
    "faces = np.array(f)\n",
    "\n",
    "# add pins to the same mesh in this array\n",
    "v, _, _, f, _, _ = igl.read_obj(\"../assets/simple_pin.obj\")\n",
    "for i in range(2):\n",
    "    for j in range(-i, i + 1):\n",
    "        faces = np.concatenate((faces, f + len(vertices)), axis=0)\n",
    "        vertices = np.concatenate(\n",
    "            (vertices, (v + np.array([i * 1.5, 0, 0]) + np.array([0, 0, j * 1.5]))),\n",
    "            axis=0,\n",
    "        )\n",
    "        object_list.append(\n",
    "            Object(v + np.array([i * 1.5, 0, 0]) + np.array([0, 0, j * 1.5]), f)\n",
    "        )\n",
    "\n",
    "# register complete mesh w/ polyscope\n",
    "ps.init()\n",
    "mesh = ps.register_surface_mesh(\"everything\", vertices, faces)\n",
    "\n",
    "# intial all objects as static, except for ball, which is given initial velocity\n",
    "# slowly approaching pins\n",
    "initial_velocities = np.zeros(vertices.shape)\n",
    "initial_velocities[:indices_ball] = np.array([1, 0, 0])\n",
    "\n",
    "masses = np.ones(len(vertices))\n",
    "external_forces = np.zeros(vertices.shape)"
   ]
  },
  {
   "cell_type": "code",
   "execution_count": 71,
   "metadata": {},
   "outputs": [],
   "source": [
    "object_mask = []\n",
    "vertex_counter = face_counter = 0\n",
    "object_offsets = []\n",
    "\n",
    "for object in object_list:\n",
    "    vertex_mask = np.zeros(len(vertices), dtype=bool)\n",
    "    face_mask = np.zeros(len(faces), dtype=bool)\n",
    "\n",
    "    vertex_mask[vertex_counter : vertex_counter + len(object.v)] = True\n",
    "    face_mask[face_counter : face_counter + len(object.f)] = True\n",
    "    object_offsets.append((vertex_counter, face_counter))\n",
    "    vertex_counter += len(object.v)\n",
    "    face_counter += len(object.f)\n",
    "\n",
    "    object_mask.append((vertex_mask, face_mask))"
   ]
  },
  {
   "cell_type": "code",
   "execution_count": 72,
   "metadata": {},
   "outputs": [
    {
     "name": "stdout",
     "output_type": "stream",
     "text": [
      "(32, 3) vs  (82, 3)\n",
      "(48, 3)\n",
      "min:  0 vs  0\n",
      "max:  31 vs  81\n",
      "(50, 3)\n"
     ]
    }
   ],
   "source": [
    "i = 0; object = object_list[i]\n",
    "vertices_i = vertices[~object_mask[i][0]]\n",
    "faces_i = copy.deepcopy(faces)\n",
    "faces_i[object_offsets[i][1] :] = faces_i[object_offsets[i][1]:] - len(object.v)\n",
    "faces_i = faces_i[~object_mask[i][1]]\n",
    "\n",
    "print(vertices_i.shape, \"vs \", vertices.shape)\n",
    "print(faces_i.shape)\n",
    "\n",
    "print(\"min: \", faces_i.min(), \"vs \", faces.min())\n",
    "print(\"max: \", faces_i.max(), \"vs \", faces.max())\n",
    "print(object.v.shape)"
   ]
  },
  {
   "cell_type": "code",
   "execution_count": 73,
   "metadata": {},
   "outputs": [
    {
     "name": "stderr",
     "output_type": "stream",
     "text": [
      "/home/timur/miniconda3/envs/cloth/lib/python3.8/site-packages/traittypes/traittypes.py:97: UserWarning: Given trait value dtype \"float64\" does not match required type \"float32\". A coerced copy has been created.\n",
      "  warnings.warn(\n",
      "/home/timur/miniconda3/envs/cloth/lib/python3.8/site-packages/traittypes/traittypes.py:97: UserWarning: Given trait value dtype \"int64\" does not match required type \"uint32\". A coerced copy has been created.\n",
      "  warnings.warn(\n"
     ]
    },
    {
     "data": {
      "application/vnd.jupyter.widget-view+json": {
       "model_id": "0e395bb949f747e5aecd4b22a6296c51",
       "version_major": 2,
       "version_minor": 0
      },
      "text/plain": [
       "Output()"
      ]
     },
     "metadata": {},
     "output_type": "display_data"
    }
   ],
   "source": [
    "plot = k3d.plot()\n",
    "plot += k3d.mesh(object.v, object.f, color=0xff0000)\n",
    "plot += k3d.mesh(vertices_i, faces_i, color=0x00ff00)\n",
    "plot.display()"
   ]
  },
  {
   "cell_type": "code",
   "execution_count": 96,
   "metadata": {},
   "outputs": [],
   "source": [
    "S, I, C, N = igl.signed_distance(object.v, vertices_i, faces_i, True)\n",
    "collision_mask = S < 0"
   ]
  },
  {
   "cell_type": "code",
   "execution_count": 97,
   "metadata": {},
   "outputs": [],
   "source": [
    "collision_indices = np.arange(len(object.v))[collision_mask]\n",
    "C = C[collision_mask]\n",
    "N = N[collision_mask]\n",
    "S = S[collision_mask]\n",
    "I = I[collision_mask]\n",
    "\n",
    "order = np.argsort(S)\n",
    "\n",
    "collision_indices = collision_indices[order]\n",
    "C = C[order]\n",
    "N = N[order]\n",
    "I = I[order]\n",
    "\n",
    "I_mask = I >= object_offsets[i][1]\n",
    "I[I_mask] = I[I_mask] + object.f.shape[0]"
   ]
  },
  {
   "cell_type": "code",
   "execution_count": 98,
   "metadata": {},
   "outputs": [
    {
     "data": {
      "text/plain": [
       "array([ True,  True,  True,  True,  True,  True,  True])"
      ]
     },
     "execution_count": 98,
     "metadata": {},
     "output_type": "execute_result"
    }
   ],
   "source": [
    "# S #P list of smallest signed distances\n",
    "# I #P list of facet indices corresponding to smallest distances\n",
    "# C #P by 3 list of closest points\n",
    "object_offsets[i][1]\n",
    "I_mask"
   ]
  },
  {
   "cell_type": "code",
   "execution_count": 101,
   "metadata": {},
   "outputs": [
    {
     "data": {
      "text/plain": [
       "array([15, 11, 16, 14, 13, 10,  9])"
      ]
     },
     "execution_count": 101,
     "metadata": {},
     "output_type": "execute_result"
    }
   ],
   "source": [
    "collision_indices+ object_offsets[i][0]"
   ]
  }
 ],
 "metadata": {
  "kernelspec": {
   "display_name": "foo",
   "language": "python",
   "name": "python3"
  },
  "language_info": {
   "codemirror_mode": {
    "name": "ipython",
    "version": 3
   },
   "file_extension": ".py",
   "mimetype": "text/x-python",
   "name": "python",
   "nbconvert_exporter": "python",
   "pygments_lexer": "ipython3",
   "version": "3.10.13"
  }
 },
 "nbformat": 4,
 "nbformat_minor": 2
}
