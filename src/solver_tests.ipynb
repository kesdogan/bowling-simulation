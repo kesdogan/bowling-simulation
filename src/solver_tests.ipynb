{
 "cells": [
  {
   "cell_type": "code",
   "execution_count": 1,
   "metadata": {},
   "outputs": [
    {
     "ename": "TabError",
     "evalue": "inconsistent use of tabs and spaces in indentation (solver.py, line 68)",
     "output_type": "error",
     "traceback": [
      "Traceback \u001b[0;36m(most recent call last)\u001b[0m:\n",
      "\u001b[0m  File \u001b[1;32m~/Documents/ETH/PBS/bowling-simulation/env/lib/python3.10/site-packages/IPython/core/interactiveshell.py:3548\u001b[0m in \u001b[1;35mrun_code\u001b[0m\n    exec(code_obj, self.user_global_ns, self.user_ns)\u001b[0m\n",
      "\u001b[0;36m  Cell \u001b[0;32mIn[1], line 3\u001b[0;36m\n\u001b[0;31m    from src.solver import ProjectiveDynamicsSolver\u001b[0;36m\n",
      "\u001b[0;36m  File \u001b[0;32m~/Documents/ETH/PBS/bowling-simulation/src/solver.py:68\u001b[0;36m\u001b[0m\n\u001b[0;31m    print(f\"{s=}\")\u001b[0m\n\u001b[0m    ^\u001b[0m\n\u001b[0;31mTabError\u001b[0m\u001b[0;31m:\u001b[0m inconsistent use of tabs and spaces in indentation\n"
     ]
    }
   ],
   "source": [
    "from src.utils import Triangle, Vertex\n",
    "from src.constraints import Simplicial2DConstraint, PDConstraint\n",
    "from src.solver import ProjectiveDynamicsSolver\n",
    "\n",
    "import numpy as np"
   ]
  },
  {
   "cell_type": "code",
   "execution_count": null,
   "metadata": {},
   "outputs": [],
   "source": [
    "vertices = [\n",
    "    Vertex(\n",
    "        position=np.array([1.0, 0.0, 0.0]),\n",
    "        velocity=np.array([0.0, 0.0, 0.0]),\n",
    "        mass=1.0,\n",
    "        external_force=np.array([0.0, 0.0, 0.0]),\n",
    "    ),\n",
    "    Vertex(\n",
    "        position=np.array([3.0, 0.0, 0.0]),\n",
    "        velocity=np.array([0.0, 0.0, 0.0]),\n",
    "        mass=1.0,\n",
    "        external_force=np.array([0.0, 0.0, 0.0]),\n",
    "    ),\n",
    "    Vertex(\n",
    "        position=np.array([1.0, 3.0, 3.0]),\n",
    "        velocity=np.array([0.0, 0.0, 0.0]),\n",
    "        mass=1.0,\n",
    "        external_force=np.array([0.0, 0.0, 0.0]),\n",
    "    ),\n",
    "]\n",
    "\n",
    "triangles = [\n",
    "    Triangle(0, 1, 2)\n",
    "]"
   ]
  },
  {
   "cell_type": "code",
   "execution_count": 2,
   "metadata": {},
   "outputs": [
    {
     "ename": "NameError",
     "evalue": "name 'triangles' is not defined",
     "output_type": "error",
     "traceback": [
      "\u001b[0;31m---------------------------------------------------------------------------\u001b[0m",
      "\u001b[0;31mNameError\u001b[0m                                 Traceback (most recent call last)",
      "\u001b[1;32m/Users/tobiaochsner/Documents/ETH/PBS/bowling-simulation/src/solver_tests.ipynb Cell 3\u001b[0m line \u001b[0;36m3\n\u001b[1;32m      <a href='vscode-notebook-cell:/Users/tobiaochsner/Documents/ETH/PBS/bowling-simulation/src/solver_tests.ipynb#W2sZmlsZQ%3D%3D?line=0'>1</a>\u001b[0m constraints: \u001b[39mlist\u001b[39m[PDConstraint] \u001b[39m=\u001b[39m [\n\u001b[1;32m      <a href='vscode-notebook-cell:/Users/tobiaochsner/Documents/ETH/PBS/bowling-simulation/src/solver_tests.ipynb#W2sZmlsZQ%3D%3D?line=1'>2</a>\u001b[0m     Simplicial2DConstraint(\n\u001b[0;32m----> <a href='vscode-notebook-cell:/Users/tobiaochsner/Documents/ETH/PBS/bowling-simulation/src/solver_tests.ipynb#W2sZmlsZQ%3D%3D?line=2'>3</a>\u001b[0m         triangle\u001b[39m=\u001b[39mtriangles[\u001b[39m0\u001b[39m],\n\u001b[1;32m      <a href='vscode-notebook-cell:/Users/tobiaochsner/Documents/ETH/PBS/bowling-simulation/src/solver_tests.ipynb#W2sZmlsZQ%3D%3D?line=3'>4</a>\u001b[0m         intial_positions\u001b[39m=\u001b[39mnp\u001b[39m.\u001b[39marray([[\u001b[39m1.0\u001b[39m, \u001b[39m0.0\u001b[39m, \u001b[39m0.0\u001b[39m], [\u001b[39m3.0\u001b[39m, \u001b[39m0.0\u001b[39m, \u001b[39m0.0\u001b[39m], [\u001b[39m1.0\u001b[39m, \u001b[39m3.0\u001b[39m, \u001b[39m3.0\u001b[39m]]),\n\u001b[1;32m      <a href='vscode-notebook-cell:/Users/tobiaochsner/Documents/ETH/PBS/bowling-simulation/src/solver_tests.ipynb#W2sZmlsZQ%3D%3D?line=4'>5</a>\u001b[0m         sigma_min\u001b[39m=\u001b[39m\u001b[39m-\u001b[39m\u001b[39m1.0\u001b[39m,\n\u001b[1;32m      <a href='vscode-notebook-cell:/Users/tobiaochsner/Documents/ETH/PBS/bowling-simulation/src/solver_tests.ipynb#W2sZmlsZQ%3D%3D?line=5'>6</a>\u001b[0m         sigma_max\u001b[39m=\u001b[39m\u001b[39m1.0\u001b[39m,\n\u001b[1;32m      <a href='vscode-notebook-cell:/Users/tobiaochsner/Documents/ETH/PBS/bowling-simulation/src/solver_tests.ipynb#W2sZmlsZQ%3D%3D?line=6'>7</a>\u001b[0m         weight\u001b[39m=\u001b[39m\u001b[39m1\u001b[39m\n\u001b[1;32m      <a href='vscode-notebook-cell:/Users/tobiaochsner/Documents/ETH/PBS/bowling-simulation/src/solver_tests.ipynb#W2sZmlsZQ%3D%3D?line=7'>8</a>\u001b[0m     )\n\u001b[1;32m      <a href='vscode-notebook-cell:/Users/tobiaochsner/Documents/ETH/PBS/bowling-simulation/src/solver_tests.ipynb#W2sZmlsZQ%3D%3D?line=8'>9</a>\u001b[0m ]\n",
      "\u001b[0;31mNameError\u001b[0m: name 'triangles' is not defined"
     ]
    }
   ],
   "source": [
    "constraints: list[PDConstraint] = [\n",
    "    Simplicial2DConstraint(\n",
    "        triangle=triangles[0],\n",
    "        intial_positions=np.array([[1.0, 0.0, 0.0], [3.0, 0.0, 0.0], [1.0, 3.0, 3.0]]),\n",
    "        sigma_min=-1.0,\n",
    "        sigma_max=1.0,\n",
    "        weight=1\n",
    "    )\n",
    "]"
   ]
  },
  {
   "cell_type": "code",
   "execution_count": null,
   "metadata": {},
   "outputs": [
    {
     "data": {
      "text/plain": [
       "(array([[ 1,  0, -1],\n",
       "        [ 0,  1, -1],\n",
       "        [ 0,  0,  0]]),\n",
       " array([[1., 0., 0.],\n",
       "        [0., 1., 0.],\n",
       "        [0., 0., 1.]]))"
      ]
     },
     "execution_count": 4,
     "metadata": {},
     "output_type": "execute_result"
    }
   ],
   "source": [
    "constraints[0].A, constraints[0].S"
   ]
  },
  {
   "cell_type": "code",
   "execution_count": 3,
   "metadata": {},
   "outputs": [
    {
     "ename": "NameError",
     "evalue": "name 'ProjectiveDynamicsSolver' is not defined",
     "output_type": "error",
     "traceback": [
      "\u001b[0;31m---------------------------------------------------------------------------\u001b[0m",
      "\u001b[0;31mNameError\u001b[0m                                 Traceback (most recent call last)",
      "\u001b[1;32m/Users/tobiaochsner/Documents/ETH/PBS/bowling-simulation/src/solver_tests.ipynb Cell 5\u001b[0m line \u001b[0;36m1\n\u001b[0;32m----> <a href='vscode-notebook-cell:/Users/tobiaochsner/Documents/ETH/PBS/bowling-simulation/src/solver_tests.ipynb#W3sZmlsZQ%3D%3D?line=0'>1</a>\u001b[0m solver \u001b[39m=\u001b[39m ProjectiveDynamicsSolver(\n\u001b[1;32m      <a href='vscode-notebook-cell:/Users/tobiaochsner/Documents/ETH/PBS/bowling-simulation/src/solver_tests.ipynb#W3sZmlsZQ%3D%3D?line=1'>2</a>\u001b[0m     vertices,\n\u001b[1;32m      <a href='vscode-notebook-cell:/Users/tobiaochsner/Documents/ETH/PBS/bowling-simulation/src/solver_tests.ipynb#W3sZmlsZQ%3D%3D?line=2'>3</a>\u001b[0m     constraints,\n\u001b[1;32m      <a href='vscode-notebook-cell:/Users/tobiaochsner/Documents/ETH/PBS/bowling-simulation/src/solver_tests.ipynb#W3sZmlsZQ%3D%3D?line=3'>4</a>\u001b[0m     \u001b[39m1\u001b[39m\n\u001b[1;32m      <a href='vscode-notebook-cell:/Users/tobiaochsner/Documents/ETH/PBS/bowling-simulation/src/solver_tests.ipynb#W3sZmlsZQ%3D%3D?line=4'>5</a>\u001b[0m )\n",
      "\u001b[0;31mNameError\u001b[0m: name 'ProjectiveDynamicsSolver' is not defined"
     ]
    }
   ],
   "source": [
    "solver = ProjectiveDynamicsSolver(\n",
    "    vertices,\n",
    "    constraints,\n",
    "    1\n",
    ")"
   ]
  },
  {
   "cell_type": "code",
   "execution_count": 9,
   "metadata": {},
   "outputs": [
    {
     "name": "stdout",
     "output_type": "stream",
     "text": [
      "rhs=array([[ 1., -3., -3.],\n",
      "       [ 5., -3., -3.],\n",
      "       [-1.,  9.,  9.]])\n",
      "self.global_system_matrix=array([[ 2.,  0., -1.],\n",
      "       [ 0.,  2., -1.],\n",
      "       [-1., -1.,  3.]])\n",
      "[[ 1. -3. -3.]\n",
      " [ 5. -3. -3.]\n",
      " [-1.  9.  9.]]\n"
     ]
    }
   ],
   "source": [
    "solver.perform_step(1)"
   ]
  },
  {
   "cell_type": "code",
   "execution_count": 7,
   "metadata": {},
   "outputs": [
    {
     "data": {
      "text/plain": [
       "array([[1.   , 0.   , 0.   ],\n",
       "       [3.   , 0.   , 0.   ],\n",
       "       [1.   , 3.001, 3.001]])"
      ]
     },
     "execution_count": 7,
     "metadata": {},
     "output_type": "execute_result"
    }
   ],
   "source": [
    "np.round(solver.q, 3)"
   ]
  }
 ],
 "metadata": {
  "kernelspec": {
   "display_name": "env",
   "language": "python",
   "name": "python3"
  },
  "language_info": {
   "codemirror_mode": {
    "name": "ipython",
    "version": 3
   },
   "file_extension": ".py",
   "mimetype": "text/x-python",
   "name": "python",
   "nbconvert_exporter": "python",
   "pygments_lexer": "ipython3",
   "version": "3.10.13"
  }
 },
 "nbformat": 4,
 "nbformat_minor": 2
}
