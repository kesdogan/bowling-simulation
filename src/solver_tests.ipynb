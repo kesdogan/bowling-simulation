{
 "cells": [
  {
   "cell_type": "code",
   "execution_count": 1,
   "metadata": {},
   "outputs": [],
   "source": [
    "from src.utils import Triangle, Vertex\n",
    "from src.constraints import Simplicial2DConstraint, PDConstraint\n",
    "from src.solver import ProjectiveDynamicsSolver\n",
    "\n",
    "import numpy as np\n",
    "from scipy.spatial.transform import Rotation"
   ]
  },
  {
   "cell_type": "code",
   "execution_count": 2,
   "metadata": {},
   "outputs": [],
   "source": [
    "vertices = [\n",
    "    Vertex(\n",
    "        position=np.array([1.0, 0.0, 0.0]),\n",
    "        velocity=np.array([0.0, 0.0, 0.0]),\n",
    "        mass=1.0,\n",
    "        external_force=np.array([0.0, 0.0, 0.0]),\n",
    "    ),\n",
    "    Vertex(\n",
    "        position=np.array([3.0, 0.0, 0.0]),\n",
    "        velocity=np.array([0.0, 0.0, 0.0]),\n",
    "        mass=1.0,\n",
    "        external_force=np.array([0.0, 0.0, 0.0]),\n",
    "    ),\n",
    "    Vertex(\n",
    "        position=np.array([1.0, 3.0, 3.0]),\n",
    "        velocity=np.array([0.0, 0.0, 0.0]),\n",
    "        mass=1.0,\n",
    "        external_force=np.array([0.0, 0.0, 0.0]),\n",
    "    ),\n",
    "]\n",
    "\n",
    "triangles = [\n",
    "    Triangle(0, 1, 2)\n",
    "]"
   ]
  },
  {
   "cell_type": "code",
   "execution_count": 3,
   "metadata": {},
   "outputs": [],
   "source": [
    "rotation = Rotation.from_euler('x', 90, degrees=True)\n",
    "\n",
    "constraints: list[PDConstraint] = [\n",
    "    Simplicial2DConstraint(\n",
    "        triangle=triangles[0],\n",
    "        initial_positions=rotation.apply(np.array([[1.0, 0.0, 0.0], [3.0, 0.0, 0.0], [1.0, 3.0, 3.0]])),\n",
    "        weight=1\n",
    "    )\n",
    "]"
   ]
  },
  {
   "cell_type": "code",
   "execution_count": 4,
   "metadata": {},
   "outputs": [
    {
     "data": {
      "text/plain": [
       "array([[ 1.,  0.,  0.],\n",
       "       [ 3.,  0.,  0.],\n",
       "       [ 1., -3.,  3.]])"
      ]
     },
     "execution_count": 4,
     "metadata": {},
     "output_type": "execute_result"
    }
   ],
   "source": [
    "constraints[0].initial_positions"
   ]
  },
  {
   "cell_type": "code",
   "execution_count": 5,
   "metadata": {},
   "outputs": [
    {
     "data": {
      "text/plain": [
       "(array([[ 1,  0, -1],\n",
       "        [ 0,  1, -1],\n",
       "        [ 1, -1,  0]]),\n",
       " array([[1., 0., 0.],\n",
       "        [0., 1., 0.],\n",
       "        [0., 0., 1.]]))"
      ]
     },
     "execution_count": 5,
     "metadata": {},
     "output_type": "execute_result"
    }
   ],
   "source": [
    "constraints[0].A, constraints[0].S"
   ]
  },
  {
   "cell_type": "code",
   "execution_count": 6,
   "metadata": {},
   "outputs": [
    {
     "data": {
      "text/plain": [
       "(array([[0., 0., 3.],\n",
       "        [0., 0., 3.],\n",
       "        [1., 3., 1.]]),)"
      ]
     },
     "execution_count": 6,
     "metadata": {},
     "output_type": "execute_result"
    }
   ],
   "source": [
    "np.rot90(np.array([[1.0, 0.0, 0.0], [3.0, 0.0, 0.0], [1.0, 3.0, 3.0]])),"
   ]
  },
  {
   "cell_type": "code",
   "execution_count": 7,
   "metadata": {},
   "outputs": [],
   "source": [
    "solver = ProjectiveDynamicsSolver(\n",
    "    vertices,\n",
    "    constraints,\n",
    "    1\n",
    ")"
   ]
  },
  {
   "cell_type": "code",
   "execution_count": 8,
   "metadata": {},
   "outputs": [
    {
     "name": "stdout",
     "output_type": "stream",
     "text": [
      "U=array([[-1.00000000e+00, -7.85046229e-17,  1.23259516e-32],\n",
      "       [ 5.55111512e-17, -7.07106781e-01, -7.07106781e-01],\n",
      "       [ 5.55111512e-17, -7.07106781e-01,  7.07106781e-01]])\n",
      "s=array([[1.00000000e+00, 0.00000000e+00, 0.00000000e+00],\n",
      "       [0.00000000e+00, 1.00000000e+00, 0.00000000e+00],\n",
      "       [0.00000000e+00, 0.00000000e+00, 3.09481635e-18]])\n",
      "V_t=array([[-1.        , -0.        ,  0.        ],\n",
      "       [-0.        ,  0.70710678, -0.70710678],\n",
      "       [-0.        , -0.70710678, -0.70710678]])\n",
      "T=array([[ 1.00000000e+00, -5.55111512e-17,  5.55111512e-17],\n",
      "       [-5.55111512e-17, -5.00000000e-01,  5.00000000e-01],\n",
      "       [-5.55111512e-17, -5.00000000e-01,  5.00000000e-01]])\n",
      "auxiliary_variable=array([[-3.33066907e-16,  2.00000000e+00, -2.00000000e+00],\n",
      "       [-3.00000000e+00, -3.00000000e+00,  1.11022302e-16],\n",
      "       [-3.00000000e+00, -3.00000000e+00,  1.11022302e-16]])\n"
     ]
    }
   ],
   "source": [
    "solver.perform_step(1)"
   ]
  },
  {
   "cell_type": "code",
   "execution_count": 9,
   "metadata": {},
   "outputs": [
    {
     "data": {
      "text/plain": [
       "3.09481635e-18"
      ]
     },
     "execution_count": 9,
     "metadata": {},
     "output_type": "execute_result"
    }
   ],
   "source": [
    "3.09481635e-18"
   ]
  },
  {
   "cell_type": "code",
   "execution_count": 10,
   "metadata": {},
   "outputs": [],
   "source": [
    "vertices = np.array([\n",
    "    [0, 0, 0],\n",
    "    [1, 1, 0],\n",
    "    [0, 0 , 1]\n",
    "])"
   ]
  },
  {
   "cell_type": "code",
   "execution_count": 12,
   "metadata": {},
   "outputs": [],
   "source": [
    "l_01 = np.linalg.norm(vertices[1] - vertices[0])\n",
    "l_12 = np.linalg.norm(vertices[2] - vertices[1])\n",
    "l_20 = np.linalg.norm(vertices[2] - vertices[0])"
   ]
  },
  {
   "cell_type": "code",
   "execution_count": null,
   "metadata": {},
   "outputs": [],
   "source": []
  },
  {
   "cell_type": "code",
   "execution_count": 41,
   "metadata": {},
   "outputs": [],
   "source": [
    "mapped_vertices = np.zeros((3, 2))\n",
    "mapped_vertices[1, 0] = l_01"
   ]
  },
  {
   "cell_type": "code",
   "execution_count": 42,
   "metadata": {},
   "outputs": [],
   "source": [
    "mapped_vertices[2, 0] = (l_20**2 + l_01**2 - l_12**2) / (2 * l_01)\n",
    "mapped_vertices[2, 1] = np.sqrt(l_20**2 - mapped_vertices[2, 0]**2)"
   ]
  },
  {
   "cell_type": "code",
   "execution_count": 43,
   "metadata": {},
   "outputs": [
    {
     "data": {
      "text/plain": [
       "array([[0.00000000e+00, 0.00000000e+00],\n",
       "       [1.41421356e+00, 0.00000000e+00],\n",
       "       [3.14018492e-16, 1.00000000e+00]])"
      ]
     },
     "execution_count": 43,
     "metadata": {},
     "output_type": "execute_result"
    }
   ],
   "source": [
    "mapped_vertices"
   ]
  },
  {
   "cell_type": "code",
   "execution_count": null,
   "metadata": {},
   "outputs": [],
   "source": []
  }
 ],
 "metadata": {
  "kernelspec": {
   "display_name": "env",
   "language": "python",
   "name": "python3"
  },
  "language_info": {
   "codemirror_mode": {
    "name": "ipython",
    "version": 3
   },
   "file_extension": ".py",
   "mimetype": "text/x-python",
   "name": "python",
   "nbconvert_exporter": "python",
   "pygments_lexer": "ipython3",
   "version": "3.10.13"
  }
 },
 "nbformat": 4,
 "nbformat_minor": 2
}
