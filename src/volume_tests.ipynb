{
 "cells": [
  {
   "cell_type": "code",
   "execution_count": 255,
   "metadata": {},
   "outputs": [],
   "source": [
    "import numpy as np\n",
    "from scipy.spatial.transform import Rotation"
   ]
  },
  {
   "cell_type": "markdown",
   "metadata": {},
   "source": [
    "### Setup"
   ]
  },
  {
   "cell_type": "code",
   "execution_count": 256,
   "metadata": {},
   "outputs": [],
   "source": [
    "sigma_min, sigma_max = 0.9, 1.1"
   ]
  },
  {
   "cell_type": "code",
   "execution_count": 257,
   "metadata": {},
   "outputs": [],
   "source": [
    "initial_positions = np.array(\n",
    "    [[1.0, 0.0, 0.0], [3.0, 1.0, 0.0], [1.0, 3.0, 3.0], [2.0, 2.0, 2.0]]\n",
    ")"
   ]
  },
  {
   "cell_type": "code",
   "execution_count": 258,
   "metadata": {},
   "outputs": [],
   "source": [
    "A = np.array(\n",
    "    [\n",
    "        [1, 0, 0, -1],\n",
    "        [0, 1, 0, -1],\n",
    "        [0, 0, 1, -1],\n",
    "    ]\n",
    ")"
   ]
  },
  {
   "cell_type": "code",
   "execution_count": 259,
   "metadata": {},
   "outputs": [],
   "source": [
    "S = np.zeros((4, 4))\n",
    "S[0, 0] = 1\n",
    "S[1, 1] = 1\n",
    "S[2, 2] = 1\n",
    "S[3, 3] = 1"
   ]
  },
  {
   "cell_type": "code",
   "execution_count": 260,
   "metadata": {},
   "outputs": [],
   "source": [
    "X_g = (A @ S @ initial_positions).T\n",
    "X_g_inv = np.linalg.pinv(X_g)"
   ]
  },
  {
   "cell_type": "code",
   "execution_count": 261,
   "metadata": {},
   "outputs": [
    {
     "data": {
      "text/plain": [
       "array([[ 1.00000000e+00, -8.88178420e-16,  5.55111512e-16],\n",
       "       [ 1.11022302e-16,  1.00000000e+00,  7.77156117e-16],\n",
       "       [ 0.00000000e+00,  4.44089210e-16,  1.00000000e+00]])"
      ]
     },
     "execution_count": 261,
     "metadata": {},
     "output_type": "execute_result"
    }
   ],
   "source": [
    "X_g @ X_g_inv"
   ]
  },
  {
   "cell_type": "markdown",
   "metadata": {},
   "source": [
    "### Step"
   ]
  },
  {
   "cell_type": "code",
   "execution_count": 262,
   "metadata": {},
   "outputs": [],
   "source": [
    "rotation = Rotation.from_euler(\"xy\", [30, 50], degrees=True)\n",
    "current_positions = rotation.apply(initial_positions)"
   ]
  },
  {
   "cell_type": "code",
   "execution_count": 263,
   "metadata": {},
   "outputs": [],
   "source": [
    "X_f = (A @ S @ current_positions).T"
   ]
  },
  {
   "cell_type": "code",
   "execution_count": 264,
   "metadata": {},
   "outputs": [],
   "source": [
    "U, sigma, V_t = np.linalg.svd(X_f @ X_g_inv)"
   ]
  },
  {
   "cell_type": "code",
   "execution_count": 265,
   "metadata": {},
   "outputs": [],
   "source": [
    "sigma = np.diag(sigma)"
   ]
  },
  {
   "cell_type": "code",
   "execution_count": 271,
   "metadata": {},
   "outputs": [
    {
     "data": {
      "text/plain": [
       "array([[ 6.42787610e-01,  3.83022222e-01,  6.63413948e-01],\n",
       "       [-1.13987598e-16,  8.66025404e-01, -5.00000000e-01],\n",
       "       [-7.66044443e-01,  3.21393805e-01,  5.56670399e-01]])"
      ]
     },
     "execution_count": 271,
     "metadata": {},
     "output_type": "execute_result"
    }
   ],
   "source": [
    "U @ sigma @ V_t"
   ]
  },
  {
   "cell_type": "code",
   "execution_count": 272,
   "metadata": {},
   "outputs": [
    {
     "data": {
      "text/plain": [
       "array([[-1., -2., -2.],\n",
       "       [ 1., -1., -2.],\n",
       "       [-1.,  1.,  1.]])"
      ]
     },
     "execution_count": 272,
     "metadata": {},
     "output_type": "execute_result"
    }
   ],
   "source": [
    "(sigma @ X_g).T"
   ]
  },
  {
   "cell_type": "code",
   "execution_count": 246,
   "metadata": {},
   "outputs": [],
   "source": [
    "def C(D):\n",
    "    det_Sigma = np.linalg.det(sigma + np.diag(D))\n",
    "    return max(det_Sigma - sigma_max, det_Sigma - sigma_min)"
   ]
  },
  {
   "cell_type": "code",
   "execution_count": 247,
   "metadata": {},
   "outputs": [],
   "source": [
    "def DC(D):\n",
    "    det_Sigma = np.repeat(np.linalg.det(sigma + np.diag(D)), 3)\n",
    "    div = (np.diagonal(sigma) + D)\n",
    "    return det_Sigma / np.maximum(div, 0.000001)"
   ]
  },
  {
   "cell_type": "code",
   "execution_count": 248,
   "metadata": {},
   "outputs": [],
   "source": [
    "def get_D_k(D):\n",
    "    return (DC(D).T @ D - C(D)) / np.maximum(np.dot(DC(D), DC(D)), 0.00001) * DC(D)"
   ]
  },
  {
   "cell_type": "code",
   "execution_count": 249,
   "metadata": {},
   "outputs": [],
   "source": [
    "D_0 = np.random.random(3)\n",
    "D_k = D_0.copy()\n",
    "\n",
    "for _ in range(100):\n",
    "    sigma_p = sigma + np.diag(D_k)\n",
    "    det_sigma_p = np.linalg.det(sigma_p)\n",
    "    \n",
    "    DC_D = np.repeat(det_sigma_p, 3) / np.maximum(np.diagonal(sigma_p), 0.000001)\n",
    "    C_D = max(det_sigma_p - sigma_max, det_sigma_p - sigma_min)\n",
    "    \n",
    "    D_k = (DC_D.T @ D_k - C_D) / np.maximum(np.dot(DC_D, DC_D), 0.00001) * DC_D"
   ]
  },
  {
   "cell_type": "code",
   "execution_count": 254,
   "metadata": {},
   "outputs": [
    {
     "data": {
      "text/plain": [
       "0.9"
      ]
     },
     "execution_count": 254,
     "metadata": {},
     "output_type": "execute_result"
    }
   ],
   "source": [
    "np.linalg.det(sigma_p)"
   ]
  },
  {
   "cell_type": "code",
   "execution_count": 251,
   "metadata": {},
   "outputs": [
    {
     "data": {
      "text/plain": [
       "array([0.93216975, 0.93216975, 0.93216975])"
      ]
     },
     "execution_count": 251,
     "metadata": {},
     "output_type": "execute_result"
    }
   ],
   "source": [
    "DC(D_k)"
   ]
  },
  {
   "cell_type": "code",
   "execution_count": 252,
   "metadata": {},
   "outputs": [
    {
     "data": {
      "text/plain": [
       "array([0.12753648, 0.91528047, 0.45833766])"
      ]
     },
     "execution_count": 252,
     "metadata": {},
     "output_type": "execute_result"
    }
   ],
   "source": [
    "D_0"
   ]
  },
  {
   "cell_type": "code",
   "execution_count": null,
   "metadata": {},
   "outputs": [],
   "source": []
  }
 ],
 "metadata": {
  "kernelspec": {
   "display_name": "env",
   "language": "python",
   "name": "python3"
  },
  "language_info": {
   "codemirror_mode": {
    "name": "ipython",
    "version": 3
   },
   "file_extension": ".py",
   "mimetype": "text/x-python",
   "name": "python",
   "nbconvert_exporter": "python",
   "pygments_lexer": "ipython3",
   "version": "3.10.13"
  }
 },
 "nbformat": 4,
 "nbformat_minor": 2
}
